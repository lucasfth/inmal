{
  "cells": [
    {
      "cell_type": "code",
      "execution_count": 1,
      "id": "css_setup",
      "metadata": {
        "jupyter": {
          "source_hidden": true
        }
      },
      "outputs": [
        {
          "data": {
            "text/html": [
              "\n",
              "<style>\n",
              ".custom-container {\n",
              "    @import \"https://cdn.jsdelivr.net/npm/bulma@0.9.4/css/bulma.min.css\";\n",
              "}\n",
              "</style>\n"
            ],
            "text/plain": [
              "<IPython.core.display.HTML object>"
            ]
          },
          "execution_count": 1,
          "metadata": {},
          "output_type": "execute_result"
        }
      ],
      "source": [
        "from IPython.core.display import HTML\n",
        "# Define scoped Bulma CSS styles\n",
        "scoped_bulma_css = \"\"\"\n",
        "<style>\n",
        ".custom-container {\n",
        "    @import \"https://cdn.jsdelivr.net/npm/bulma@0.9.4/css/bulma.min.css\";\n",
        "}\n",
        "</style>\n",
        "\"\"\"\n",
        "\n",
        "# Apply the scoped Bulma CSS styles\n",
        "HTML(scoped_bulma_css)"
      ]
    },
    {
      "cell_type": "markdown",
      "id": "WU3piQAufGN94kTR9Lxow",
      "metadata": {},
      "source": [
        "# Linear Algebra\n",
        "This exercise introduces fundamental linear algebra operations in Numpy and how to use them to solve linear systems of equations. The goal is to get familiarized with the concepts of linear algebra and how to use them in Numpy. The following topics will be covered:\n",
        "- Performing matrix operations (elementwise operations, transpose, multiplication, inverse).\n",
        "- Properties of matrix multiplication and inverse.\n",
        "- Representing linear equations in matrix form.\n",
        "- Solving linear equations using the matrix inverse.\n",
        "\n",
        "\n",
        "<article class=\"message\">\n",
        "    <div class=\"message-body\">\n",
        "        <strong>List of individual tasks</strong>\n",
        "        <ul style=\"list-style: none;\">\n",
        "            <li>\n",
        "            <a href=\"#diff\">Task 1: Elementwise difference</a>\n",
        "            </li>\n",
        "            <li>\n",
        "            <a href=\"#mul_prop\">Task 2: Multiplication properties</a>\n",
        "            </li>\n",
        "            <li>\n",
        "            <a href=\"#elem_mul\">Task 3: Elementwise multiplication</a>\n",
        "            </li>\n",
        "            <li>\n",
        "            <a href=\"#inverses\">Task 4: Inverses</a>\n",
        "            </li>\n",
        "            <li>\n",
        "            <a href=\"#inverse_prop\">Task 5: Inverse properties</a>\n",
        "            </li>\n",
        "            <li>\n",
        "            <a href=\"#determinant\">Task 6: The determinant</a>\n",
        "            </li>\n",
        "            <li>\n",
        "            <a href=\"#transpose\">Task 7: Transpose</a>\n",
        "            </li>\n",
        "            <li>\n",
        "            <a href=\"#eqsys\">Task 8: Solving linear equation systems</a>\n",
        "            </li>\n",
        "            <li>\n",
        "            <a href=\"#matmul\">Task 9: Implementing matrix multiplication</a>\n",
        "            </li>\n",
        "        </ul>\n",
        "    </div>\n",
        "</article>\n",
        "\n",
        "The cell below defines matrices `A`\n",
        ", `B`\n",
        ", `C`\n",
        ", `D`\n",
        ", `E`\n",
        " that are used throughout the exercise:\n"
      ]
    },
    {
      "cell_type": "code",
      "execution_count": 2,
      "id": "rvrCIpDObD_U2xPQNGdRQ",
      "metadata": {},
      "outputs": [],
      "source": [
        "import numpy as np\n",
        "import matplotlib.pyplot as plt"
      ]
    },
    {
      "cell_type": "markdown",
      "id": "OuIRN3bZYA4VK7U0SIG-m",
      "metadata": {},
      "source": []
    },
    {
      "cell_type": "code",
      "execution_count": 3,
      "id": "KV1W8qQXSvX2SGbC5ETWC",
      "metadata": {},
      "outputs": [],
      "source": [
        "# Define matrices to be used in the tasks:\n",
        "A = np.array([\n",
        "    [1, 0.5, 1/3, 0.25],\n",
        "    [0.5, 1/3, 0.25, 0.2],\n",
        "    [1/3, 0.25, 0.2, 1/6],\n",
        "    [0.25, 0.2, 1/6, 1/7]\n",
        "])\n",
        "\n",
        "B = np.array([\n",
        "    [-16, 15, -14, 13],\n",
        "    [-12, 11, -10, 9],\n",
        "    [-8, 7, -6, 5],\n",
        "    [-4, 3, -2, 1]\n",
        "])\n",
        "\n",
        "C = np.array([\n",
        "    [1, 1/2, 1/3, 1/4],\n",
        "    [1/2, 1/3, 1/4, 1/5],\n",
        "    [1/3, 1/5, 1/7, 1/9],\n",
        "    [1/4, 1/7, 1/8, 1/9],\n",
        "])\n",
        "\n",
        "D = np.array([\n",
        "    [2, 4, 5/2],\n",
        "    [-3/4, 2, 0.25],\n",
        "    [0.25, 0.5, 2]\n",
        "])\n",
        "\n",
        "E = np.array([\n",
        "    [1, -0.5, 3/4],\n",
        "    [3/2, 0.5, -2],\n",
        "    [0.25, 1, 0.5]\n",
        "])\n",
        "\n",
        "D_inv = np.linalg.inv(D)\n",
        "E_inv = np.linalg.inv(E)"
      ]
    },
    {
      "cell_type": "markdown",
      "id": "Gv5qVfHHX6Np05fajZe3S",
      "metadata": {},
      "source": [
        "<article class=\"message task\"><a class=\"anchor\" id=\"diff\"></a>\n",
        "    <div class=\"message-header\">\n",
        "        <span>Task 1: Elementwise difference</span>\n",
        "        <span class=\"has-text-right\">\n",
        "          <i class=\"bi bi-code\"></i><i class=\"bi bi-stoplights easy\"></i>\n",
        "        </span>\n",
        "    </div>\n",
        "<div class=\"message-body\">\n",
        "\n",
        "\n",
        "1. Calculate $A-B$ in the code cell below.\n",
        "\n",
        "\n",
        "\n",
        "</div></article>\n",
        "\n"
      ]
    },
    {
      "cell_type": "code",
      "execution_count": 7,
      "id": "erTrfObK1DKwWviKLgxPQ",
      "metadata": {},
      "outputs": [
        {
          "data": {
            "text/plain": [
              "array([[0.        , 0.        , 0.        , 0.        ],\n",
              "       [0.        , 0.        , 0.        , 0.        ],\n",
              "       [0.        , 0.05      , 0.05714286, 0.05555556],\n",
              "       [0.        , 0.05714286, 0.04166667, 0.03174603]])"
            ]
          },
          "execution_count": 7,
          "metadata": {},
          "output_type": "execute_result"
        }
      ],
      "source": [
        "# Write your solution here\n",
        "np.subtract(A, C)"
      ]
    },
    {
      "cell_type": "markdown",
      "id": "wKDbLzsNPok94G2NUNozl",
      "metadata": {},
      "source": [
        "<article class=\"message task\"><a class=\"anchor\" id=\"mul_prop\"></a>\n",
        "    <div class=\"message-header\">\n",
        "        <span>Task 2: Multiplication properties</span>\n",
        "        <span class=\"has-text-right\">\n",
        "          <i class=\"bi bi-code\"></i><i class=\"bi bi-stoplights easy\"></i>\n",
        "        </span>\n",
        "    </div>\n",
        "<div class=\"message-body\">\n",
        "\n",
        "\n",
        "1. Calculate $AC$ and $CA$ in the code cell below. (You may use either [`np.dot`\n",
        "](https://numpy.org/doc/stable/reference/generated/numpy.dot.html<elem-3>.dot)\n",
        " or the `@`\n",
        " operator).\n",
        "2. Explain why the results are different.\n",
        "\n",
        "\n",
        "\n",
        "</div></article>\n",
        "\n"
      ]
    },
    {
      "cell_type": "code",
      "execution_count": 6,
      "id": "1M720Wb_eKbfpOkDI1PJu",
      "metadata": {},
      "outputs": [
        {
          "name": "stdout",
          "output_type": "stream",
          "text": [
            "[[1.42361111 0.76904762 0.53720238 0.41481481]\n",
            " [0.8        0.43968254 0.31071429 0.24166667]\n",
            " [0.56666667 0.31380952 0.22301587 0.17407407]\n",
            " [0.44126984 0.24540816 0.175      0.13689153]]\n",
            "[[1.42361111 0.8        0.56666667 0.44126984]\n",
            " [0.8        0.46361111 0.33333333 0.26190476]\n",
            " [0.50873016 0.29126984 0.20820106 0.16301587]\n",
            " [0.39087302 0.22609127 0.16256614 0.12777778]]\n"
          ]
        }
      ],
      "source": [
        "# Write your solution here\n",
        "print(np.dot(A,C))\n",
        "print(np.dot(C,A))"
      ]
    },
    {
      "cell_type": "markdown",
      "id": "DCdt_cSOmGku5AneIxLFV",
      "metadata": {},
      "source": [
        "<article class=\"message task\"><a class=\"anchor\" id=\"elem_mul\"></a>\n",
        "    <div class=\"message-header\">\n",
        "        <span>Task 3: Elementwise multiplication</span>\n",
        "        <span class=\"has-text-right\">\n",
        "          <i class=\"bi bi-code\"></i><i class=\"bi bi-stoplights easy\"></i>\n",
        "        </span>\n",
        "    </div>\n",
        "<div class=\"message-body\">\n",
        "\n",
        "\n",
        "1. Calculate the elementwise multiplication of $A$ and $C$ using the `*`\n",
        " operator.\n",
        "2. Explain the difference between the `*`\n",
        " and `@`\n",
        " operators.\n",
        "\n",
        "\n",
        "\n",
        "</div></article>\n",
        "\n"
      ]
    },
    {
      "cell_type": "code",
      "execution_count": 10,
      "id": "3YfZml6PASAE0FCbQxTuW",
      "metadata": {},
      "outputs": [
        {
          "name": "stdout",
          "output_type": "stream",
          "text": [
            "[[1.42361111 0.76904762 0.53720238 0.41481481]\n",
            " [0.8        0.43968254 0.31071429 0.24166667]\n",
            " [0.56666667 0.31380952 0.22301587 0.17407407]\n",
            " [0.44126984 0.24540816 0.175      0.13689153]]\n",
            "[[1.42361111 0.8        0.56666667 0.44126984]\n",
            " [0.8        0.46361111 0.33333333 0.26190476]\n",
            " [0.50873016 0.29126984 0.20820106 0.16301587]\n",
            " [0.39087302 0.22609127 0.16256614 0.12777778]]\n"
          ]
        }
      ],
      "source": [
        "# Write your solution here\n",
        "print(np.dot(A,C))\n",
        "print(np.dot(C,A))"
      ]
    },
    {
      "cell_type": "markdown",
      "id": "aNOcTWfVXa_PpYv_tfGtE",
      "metadata": {},
      "source": [
        "<article class=\"message task\"><a class=\"anchor\" id=\"inverses\"></a>\n",
        "    <div class=\"message-header\">\n",
        "        <span>Task 4: Inverses</span>\n",
        "        <span class=\"has-text-right\">\n",
        "          <i class=\"bi bi-code\"></i><i class=\"bi bi-stoplights easy\"></i>\n",
        "        </span>\n",
        "    </div>\n",
        "<div class=\"message-body\">\n",
        "\n",
        "\n",
        "1. Use [`np.linalg.inv`\n",
        "](https://docs.scipy.org/doc/numpy/reference/generated/numpy.linalg.inv.html)\n",
        " to calculate  the inverse of $A$ and $C$.\n",
        "2. Verify that $AA^{-1}=I$ and $CC^{-1}=I$. If the results differ from your expectations, argue why this is the case. _Hint: The question relates to the limitations of floating point numbers._\n",
        "\n",
        "\n",
        "\n",
        "</div></article>\n",
        "\n"
      ]
    },
    {
      "cell_type": "code",
      "execution_count": 12,
      "id": "Hy-Y3fXj7lqE83qsZft7q",
      "metadata": {},
      "outputs": [
        {
          "name": "stdout",
          "output_type": "stream",
          "text": [
            "[[   16.  -120.   240.  -140.]\n",
            " [ -120.  1200. -2700.  1680.]\n",
            " [  240. -2700.  6480. -4200.]\n",
            " [ -140.  1680. -4200.  2800.]]\n",
            "[[   -72.   -225.    525.     42.]\n",
            " [  1260.   3675.  -8820.   -630.]\n",
            " [ -3696. -10710.  25830.   1764.]\n",
            " [  2700.   7830. -18900.  -1260.]]\n",
            "[[ 1.00000000e+00  1.13686838e-13  0.00000000e+00  0.00000000e+00]\n",
            " [-1.42108547e-14  1.00000000e+00 -2.27373675e-13  0.00000000e+00]\n",
            " [ 0.00000000e+00  0.00000000e+00  1.00000000e+00  0.00000000e+00]\n",
            " [ 0.00000000e+00  0.00000000e+00  0.00000000e+00  1.00000000e+00]]\n",
            "[[ 1.00000000e+00  0.00000000e+00 -1.81898940e-12  1.13686838e-13]\n",
            " [ 0.00000000e+00  1.00000000e+00  0.00000000e+00  0.00000000e+00]\n",
            " [ 0.00000000e+00  0.00000000e+00  1.00000000e+00  0.00000000e+00]\n",
            " [ 0.00000000e+00  0.00000000e+00 -4.54747351e-13  1.00000000e+00]]\n"
          ]
        }
      ],
      "source": [
        "# Write your solution here\n",
        "a_inv = np.linalg.inv(A)\n",
        "c_inv = np.linalg.inv(C)\n",
        "\n",
        "print(a_inv)\n",
        "print(c_inv)\n",
        "\n",
        "print(np.dot(A, a_inv))\n",
        "print(np.dot(C, c_inv))"
      ]
    },
    {
      "cell_type": "markdown",
      "id": "IkBz2wLswODRgYwiKGyIU",
      "metadata": {},
      "source": [
        "## Properties\n",
        "<article class=\"message task\"><a class=\"anchor\" id=\"inverse_prop\"></a>\n",
        "    <div class=\"message-header\">\n",
        "        <span>Task 5: Inverse properties</span>\n",
        "        <span class=\"has-text-right\">\n",
        "          <i class=\"bi bi-code\"></i><i class=\"bi bi-stoplights easy\"></i>\n",
        "        </span>\n",
        "    </div>\n",
        "<div class=\"message-body\">\n",
        "\n",
        "\n",
        "Use the code cell below to verify that:\n",
        "1. $D^{-1}E^{-1} = (ED)^{-1}$\n",
        "2. $D^{-1}E^{-1} \\neq (DE)^{-1}$\n",
        "\n",
        "\n",
        "\n",
        "</div></article>\n",
        "\n"
      ]
    },
    {
      "cell_type": "code",
      "execution_count": 15,
      "id": "UOHeD1r0GWhvwUDixyb8H",
      "metadata": {},
      "outputs": [
        {
          "name": "stdout",
          "output_type": "stream",
          "text": [
            "[[ 0.25261376  0.13578836 -0.51301587]\n",
            " [-0.08601058  0.11462434  0.18539683]\n",
            " [ 0.16592593 -0.18962963  0.17777778]]\n",
            "[[ 0.25261376  0.13578836 -0.51301587]\n",
            " [-0.08601058  0.11462434  0.18539683]\n",
            " [ 0.16592593 -0.18962963  0.17777778]] \n",
            "\n",
            "[[ 0.25261376  0.13578836 -0.51301587]\n",
            " [-0.08601058  0.11462434  0.18539683]\n",
            " [ 0.16592593 -0.18962963  0.17777778]]\n",
            "[[ 0.21096296 -0.256      -0.1517037 ]\n",
            " [-0.15365079  0.20571429  0.56634921]\n",
            " [ 0.05367196 -0.28342857  0.12833862]]\n"
          ]
        }
      ],
      "source": [
        "# Write your solution here\n",
        "d_inv = np.linalg.inv(D)\n",
        "e_inv = np.linalg.inv(E)\n",
        "ed_inv = np.linalg.inv(np.dot(E,D))\n",
        "de_inv = np.linalg.inv(np.dot(D,E))\n",
        "\n",
        "print(np.dot(d_inv, e_inv))\n",
        "print(ed_inv, \"\\n\")\n",
        "print(np.dot(d_inv, e_inv))\n",
        "print(de_inv)"
      ]
    },
    {
      "cell_type": "markdown",
      "id": "XThehdlJwf0b5AhDSWIug",
      "metadata": {},
      "source": [
        "<article class=\"message task\"><a class=\"anchor\" id=\"determinant\"></a>\n",
        "    <div class=\"message-header\">\n",
        "        <span>Task 6: The determinant</span>\n",
        "        <span class=\"has-text-right\">\n",
        "          <i class=\"bi bi-code\"></i><i class=\"bi bi-stoplights easy\"></i>\n",
        "        </span>\n",
        "    </div>\n",
        "<div class=\"message-body\">\n",
        "\n",
        "\n",
        "1. Calculate the determinant of $A$, $B$, and $C$ using [`np.linalg.det`\n",
        "](https://numpy.org/doc/stable/reference/generated/numpy.linalg.det.html<elem-4>.linalg.det)\n",
        ".\n",
        "2. Determine which of the matrices $A,B,C$ have an inverse.\n",
        "3. Calculate the inverses of the matrices using [`np.linalg.inv`\n",
        "](https://numpy.org/doc/stable/reference/generated/numpy.linalg.inv.html<elem-7>.linalg.inv)\n",
        ". Explain what happens and how this is related to your answer in (2).\n",
        "\n",
        "\n",
        "\n",
        "</div></article>\n",
        "\n"
      ]
    },
    {
      "cell_type": "code",
      "execution_count": 16,
      "id": "UduFUNcROtWWQWfS6gYnD",
      "metadata": {},
      "outputs": [
        {
          "name": "stdout",
          "output_type": "stream",
          "text": [
            "1.6534391534393115e-07\n",
            "0.0\n",
            "1.0498026371041163e-07\n"
          ]
        }
      ],
      "source": [
        "# Write your solution here\n",
        "a_det = np.linalg.det(A)\n",
        "b_det = np.linalg.det(B)\n",
        "c_det = np.linalg.det(C)\n",
        "\n",
        "print(a_det)\n",
        "print(b_det)\n",
        "print(c_det)"
      ]
    },
    {
      "cell_type": "markdown",
      "id": "0Kf4HtfVV5gbVAw6jResn",
      "metadata": {},
      "source": [
        "<article class=\"message task\"><a class=\"anchor\" id=\"transpose\"></a>\n",
        "    <div class=\"message-header\">\n",
        "        <span>Task 7: Transpose</span>\n",
        "        <span class=\"has-text-right\">\n",
        "          <i class=\"bi bi-code\"></i><i class=\"bi bi-stoplights easy\"></i>\n",
        "        </span>\n",
        "    </div>\n",
        "<div class=\"message-body\">\n",
        "\n",
        "\n",
        "1. Verify that $(D^{-1})^\\top$ and ${D^\\top}^{-1}$ are equal.\n",
        "\n",
        "<article class=\"message is-warning\">\n",
        "  <div class=\"message-header\">Hint</div>\n",
        "  <div class=\"message-body\">\n",
        "  \n",
        "  The transpose of a matrix `A`\n",
        " in Numpy can be calculated with `A.T`\n",
        ".\n",
        "\n",
        "  \n",
        "  </div>\n",
        "</article>\n",
        "\n",
        "\n",
        "\n",
        "</div></article>\n",
        "\n"
      ]
    },
    {
      "cell_type": "code",
      "execution_count": 18,
      "id": "jtA0-SUBCaUcSv3CquHU_",
      "metadata": {},
      "outputs": [
        {
          "name": "stdout",
          "output_type": "stream",
          "text": [
            "[[ 0.32804233  0.13227513 -0.07407407]\n",
            " [-0.57142857  0.28571429  0.        ]\n",
            " [-0.33862434 -0.2010582   0.59259259]]\n",
            "[[ 0.32804233  0.13227513 -0.07407407]\n",
            " [-0.57142857  0.28571429 -0.        ]\n",
            " [-0.33862434 -0.2010582   0.59259259]]\n"
          ]
        }
      ],
      "source": [
        "# Write your solution here\n",
        "print(np.linalg.inv(D).T)\n",
        "print(np.linalg.inv(D.T))"
      ]
    },
    {
      "cell_type": "markdown",
      "id": "SdTqrKyvrtAuR7OURkZfL",
      "metadata": {},
      "source": [
        "## Linear equations\n",
        "Matrices can represent systems of linear equations\n",
        "\n",
        "$$\n",
        "Ax=b\n",
        "$$\n",
        "where $A$ is the coefficient matrix, $x$ vector of unknowns, and $b$ is a vector of the dependent variables.\n",
        "A solution can be found using\n",
        "\n",
        "$$\n",
        "\\begin{align*}\n",
        "A^{-1}Ax&=A^{-1}b\\\\\n",
        "x &= A^{-1}b.\n",
        "\\end{align*}\n",
        "$$\n",
        "<article class=\"message task\"><a class=\"anchor\" id=\"eqsys\"></a>\n",
        "    <div class=\"message-header\">\n",
        "        <span>Task 8: Solving linear equation systems</span>\n",
        "        <span class=\"has-text-right\">\n",
        "          <i class=\"bi bi-code\"></i><i class=\"bi bi-stoplights medium\"></i>\n",
        "        </span>\n",
        "    </div>\n",
        "<div class=\"message-body\">\n",
        "\n",
        "\n",
        "For each of the following sets of linear equations determine whether a unique solution exits. Recall that the determinant \n",
        "can be used to determine whether a matrix has an inverse:\n",
        "a)\n",
        "\n",
        "$$ \n",
        "\\begin{align*}\n",
        "2x + 3y  &= -1\\\\\n",
        "x + y  &= 0\\\\\n",
        "\\end{align*}\n",
        "$$\n",
        "b)\n",
        "\n",
        "$$\n",
        "\\begin{align*}\n",
        "1x + 0y  &= 5\\\\\n",
        "0x + 1y  &= 7\\\\\n",
        "\\end{align*}\n",
        "$$\n",
        "c)\n",
        "\n",
        "$$\n",
        "\\begin{align*}\n",
        "0x + y  &= -1\\\\\n",
        "-2x + -3y  &= 2\\\\\n",
        "\\end{align*}\n",
        "$$\n",
        "d)\n",
        "\n",
        "$$\n",
        "\\begin{align*}\n",
        "x + -3y + 3z &= 0.5\\\\\n",
        "x - 5y + 3z& = 0.5\\\\\n",
        "6z + -6y + 4x &= 1.\n",
        "\\end{align*}\n",
        "$$\n",
        "e)\n",
        "\n",
        "$$\n",
        "\\begin{align*}\n",
        "2x + 3y + 4z &= 2\\\\\n",
        "x + 4z + y &= -2\\\\\n",
        "4z + 5y + 2x &= 3.\n",
        "\\end{align*}\n",
        "$$\n",
        "f)\n",
        "\n",
        "$$\n",
        "\\begin{align*}\n",
        "x + y + z &= 2\\\\\n",
        "2x + 2z + 2y &= -2\\\\\n",
        "3z + 3y + 3x &= 3.\n",
        "\\end{align*}\n",
        "$$\n",
        "\n",
        "\n",
        "</div></article>\n",
        "\n"
      ]
    },
    {
      "cell_type": "code",
      "execution_count": 28,
      "id": "ACMFx3Ev-oa1GuFHQc9vA",
      "metadata": {},
      "outputs": [
        {
          "name": "stdout",
          "output_type": "stream",
          "text": [
            "a:  [ 1. -1.]\n",
            "b:  [5. 7.]\n",
            "c:  [ 0.5 -1. ]\n",
            "d:  [0.07142857 0.         0.14285714]\n",
            "e:  [ 1.90625 -1.0625   0.34375]\n",
            "f:  nus aka No Unique Solutions\n"
          ]
        }
      ],
      "source": [
        "# Write your solutions here\n",
        "a1 = np.array([[2,3],[1,1]])\n",
        "a2 = np.array([-1,0])\n",
        "print(\"a: \", np.linalg.inv(a1) @ a2)\n",
        "\n",
        "b1 = np.array([[1,0],[0,1]])\n",
        "b2 = np.array([5,7])\n",
        "print(\"b: \", np.linalg.inv(b1) @ b2)\n",
        "\n",
        "c1 = np.array([[0,1],[-2,-3]])\n",
        "c2 = np.array([-1,2])\n",
        "print(\"c: \", np.linalg.inv(c1) @ c2)\n",
        "\n",
        "d1 = np.array([[1,-3,3],[1,-5,3],[6,-6,4]])\n",
        "d2 = np.array([0.5,0.5,1])\n",
        "print(\"d: \", np.linalg.inv(d1) @ d2)\n",
        "\n",
        "e1 = np.array([[2,3,4],[1,4,1],[4,5,2]])\n",
        "e2 = np.array([2,-2,3])\n",
        "print(\"e: \", np.linalg.inv(e1) @ e2)\n",
        "\n",
        "f1 = np.array([[1,1,1],[2,2,2],[3,3,3]])\n",
        "f2 = np.array([2,-2,3])\n",
        "fd = np.linalg.det(f1)\n",
        "print(\"f: \", \"nus aka No Unique Solutions\" if fd == 0 else  np.linalg.inv(f1) @ f2)"
      ]
    },
    {
      "cell_type": "markdown",
      "id": "-OpYu-6h4GaMFlg5fGXvm",
      "metadata": {},
      "source": [
        "## Matrix multiplication\n",
        "For an $N\\times D$ matrix $A$ and a $D\\times K$ matrix $B$, the \n",
        "matrix multiplication (or matrix product) is a new $N\\times K$ matrix $R$. Elements $R_{ij}$ of $R$ can be calculated \n",
        "using the following formula\n",
        "\n",
        "$$\n",
        "R_{ij} = \\sum_{d=1}^D A_{id}B_{dj}.\n",
        "$$\n",
        "In other words, it is the dot product of the $i$'th row vector of $A$ and the $j$'th column vector of $B$.\n",
        "<article class=\"message task\"><a class=\"anchor\" id=\"matmul\"></a>\n",
        "    <div class=\"message-header\">\n",
        "        <span>Task 9: Implementing matrix multiplication</span>\n",
        "        <span class=\"has-text-right\">\n",
        "          <i class=\"bi bi-code\"></i><i class=\"bi bi-stoplights medium\"></i>\n",
        "        </span>\n",
        "    </div>\n",
        "<div class=\"message-body\">\n",
        "\n",
        "\n",
        "Implement matrix multiplication in the `matmul`\n",
        " function in the code cell below. You may use either Python lists or Numpy arrays, but the intention is to not use Numpy's built-in functions for matrix multiplication (i.e., `np.dot`\n",
        ", `@`\n",
        ", `np.matmul`\n",
        ", etc.). You may, however, use `np.dot`\n",
        " for the purpose of computing the inner product between row and column vectors.\n",
        "<article class=\"message is-warning\">\n",
        "  <div class=\"message-header\">Hint</div>\n",
        "  <div class=\"message-body\">\n",
        "  \n",
        "  It might be helpful to calculate the correct result by hand first, to make debugging easier.\n",
        "\n",
        "  \n",
        "  </div>\n",
        "</article>\n",
        "\n",
        "\n",
        "\n",
        "</div></article>\n",
        "\n"
      ]
    },
    {
      "cell_type": "code",
      "execution_count": 0,
      "id": "6RoiK8-qYfEaw4xroBRt9",
      "metadata": {},
      "outputs": [],
      "source": [
        "def matmul(a, b):\n",
        "    # Implement this function\n",
        "    ...\n",
        "    \n",
        "\n",
        "ma = [\n",
        "    [1, 2, 3],\n",
        "    [4, 5, 6],\n",
        "    [7, 8, 9]\n",
        "]\n",
        "\n",
        "mb = [\n",
        "    [5, 4, 9],\n",
        "    [2, 1, 7],\n",
        "    [8, 0, 1]\n",
        "]\n",
        "\n",
        "matmul(ma, mb)"
      ]
    },
    {
      "cell_type": "markdown",
      "id": "TPIlIhLrR49yryW4f2QWv",
      "metadata": {},
      "source": [
        "---\n"
      ]
    }
  ],
  "metadata": {
    "kernelspec": {
      "display_name": "Python",
      "language": "python3",
      "name": "python3"
    },
    "language_info": {
      "codemirror_mode": {
        "name": "ipython",
        "version": 3
      },
      "file_extension": ".py",
      "mimetype": "text/x-python",
      "name": "python",
      "nbconvert_exporter": "python",
      "pygments_lexer": "ipython3",
      "version": "3.11.9"
    }
  },
  "nbformat": 4,
  "nbformat_minor": 5
}
