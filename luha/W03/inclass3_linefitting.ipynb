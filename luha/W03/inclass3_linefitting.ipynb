{
  "cells": [
    {
      "cell_type": "code",
      "execution_count": 0,
      "id": "css_setup",
      "metadata": {
        "jupyter": {
          "source_hidden": true
        }
      },
      "outputs": [],
      "source": [
        "import requests\n",
        "from IPython.core.display import HTML\n",
        "HTML(f\"\"\"\n",
        "<style>\n",
        "@import \"https://cdn.jsdelivr.net/npm/bulma@0.9.4/css/bulma.min.css\";\n",
        "</style>\n",
        "\"\"\")"
      ]
    },
    {
      "cell_type": "markdown",
      "id": "Ytd7q0BTskG6d80FGKBE0",
      "metadata": {},
      "source": [
        "# Line fitting the matrix way\n",
        "This in-class exercise walks you through the following steps to fit a line to several datasets:\n",
        "1. Create the datasets.\n",
        "2. Construct design matrices.\n",
        "3. Compute the weights using matrix inversion.\n",
        "4. Plot the data and the fitted line.\n",
        "\n",
        "## Linear (line) models\n",
        "<article class=\"message task\"><a class=\"anchor\" id=\"loading\"></a>\n",
        "    <div class=\"message-header\">\n",
        "        <span>Task 1: Identifying parameters</span>\n",
        "        <span class=\"has-text-right\">\n",
        "          <i class=\"bi bi-code\"></i><i class=\"bi bi-stoplights easy\"></i>\n",
        "        </span>\n",
        "    </div>\n",
        "<div class=\"message-body\">\n",
        "\n",
        "\n",
        "1. Run the cell below to load the neccessary libraries and to construct the datasets.\n",
        "\n",
        "2. Identify the inputs and the labels of each dataset. \n",
        "\n",
        "\n",
        "\n",
        "\n",
        "</div></article>\n",
        "\n"
      ]
    },
    {
      "cell_type": "code",
      "execution_count": 1,
      "id": "AYlflB2Ct-7IjOJbV6W6b",
      "metadata": {},
      "outputs": [],
      "source": [
        "import numpy as np\n",
        "import matplotlib.pyplot as plt\n",
        "\n",
        "dataset_1 = np.array([[10, 2], [9, 6]])\n",
        "dataset_2 = np.array([[5, 1], [7, 5]])\n",
        "dataset_3 = np.array([[4, 2], [5, 3]])"
      ]
    },
    {
      "cell_type": "markdown",
      "id": "BtMaKq1vA27RJDNuSRDKW",
      "metadata": {},
      "source": [
        "<article class=\"message task\"><a class=\"anchor\" id=\"loading2\"></a>\n",
        "    <div class=\"message-header\">\n",
        "        <span>Task 2: Identifying parameters and constructing the design matrix</span>\n",
        "        <span class=\"has-text-right\">\n",
        "          <i class=\"bi bi-code\"></i><i class=\"bi bi-stoplights easy\"></i>\n",
        "        </span>\n",
        "    </div>\n",
        "<div class=\"message-body\">\n",
        "\n",
        "\n",
        "1. Complete the `separate_inputs_labels`\n",
        " function below. The function should take a dataset as input and return the inputs and labels separated into separate variables. The function should return a matrix `X`\n",
        " containing the inputs and an array `y`\n",
        " containing the labels. Use the function to obtain the inputs and labels for each dataset.\n",
        "\n",
        "<article class=\"message is-warning\">\n",
        "  <div class=\"message-header\">Hint</div>\n",
        "  <div class=\"message-body\">\n",
        "\n",
        "  Slicing might be helpful here.\n",
        "\n",
        "\n",
        "  </div>\n",
        "</article>\n",
        "2. Complete the code below and construct the design matrix for the other datasets. Print your results.\n",
        "\n",
        "\n",
        "\n",
        "</div></article>\n",
        "\n"
      ]
    },
    {
      "cell_type": "code",
      "execution_count": 32,
      "id": "wIGDiq7vvZXL8xm2vqqQg",
      "metadata": {},
      "outputs": [
        {
          "name": "stdout",
          "output_type": "stream",
          "text": [
            "X1 = \n",
            " [[10]\n",
            " [ 9]]\n",
            "y1 = [2 6]\n",
            "Design Matrix for Dataset 1:\n",
            " [[10.  1.]\n",
            " [ 9.  1.]]\n",
            "\n",
            "X2 = \n",
            " [[5]\n",
            " [7]]\n",
            "y2 = [1 5]\n",
            "Design Matrix for Dataset 2:\n",
            " [[5. 1.]\n",
            " [7. 1.]]\n",
            "\n",
            "X3 = \n",
            " [[4]\n",
            " [5]]\n",
            "y3 = [2 3]\n",
            "Design Matrix for Dataset 3:\n",
            " [[4. 1.]\n",
            " [5. 1.]]\n"
          ]
        }
      ],
      "source": [
        "def separate_inputs_labels(dataset):\n",
        "    \"\"\"\n",
        "    This function takes a dataset as input and returns the inputs and labels.\n",
        "    \n",
        "    Parameters:\n",
        "    dataset (numpy array): The dataset to be separated.\n",
        "    \n",
        "    Returns:\n",
        "    X (numpy array): The input matrix.\n",
        "    y (numpy array): The labels array.\n",
        "    \"\"\"\n",
        "    \n",
        "    X = dataset[:,:1]\n",
        "    y = dataset[:,1]\n",
        "\n",
        "    # return the results as a tuple\n",
        "    return X, y\n",
        "\n",
        "X1, y1 = separate_inputs_labels(dataset_1)\n",
        "X2, y2 = separate_inputs_labels(dataset_2)\n",
        "X3, y3 = separate_inputs_labels(dataset_3)\n",
        "\n",
        "# construct the design matrix    \n",
        "X1_design = np.column_stack((X1, np.ones(X1.shape)))\n",
        "X2_design = np.column_stack((X2, np.ones(X2.shape)))\n",
        "X3_design = np.column_stack((X3, np.ones(X3.shape)))\n",
        "\n",
        "\n",
        "# Print the datasets\n",
        "print(\"X1 = \\n\",X1)\n",
        "print(\"y1 =\", y1)\n",
        "print(\"Design Matrix for Dataset 1:\\n\", X1_design)\n",
        "\n",
        "print(\"\\nX2 = \\n\",X2)\n",
        "print(\"y2 =\", y2)\n",
        "print(\"Design Matrix for Dataset 2:\\n\", X2_design)\n",
        "\n",
        "print(\"\\nX3 = \\n\",X3)\n",
        "print(\"y3 =\", y3)\n",
        "print(\"Design Matrix for Dataset 3:\\n\", X3_design)"
      ]
    },
    {
      "cell_type": "markdown",
      "id": "CLOpU-wsVupRb0ljnLRt7",
      "metadata": {},
      "source": [
        "<article class=\"message task\"><a class=\"anchor\" id=\"loading3\"></a>\n",
        "    <div class=\"message-header\">\n",
        "        <span>Task 3: Solve for model parameters</span>\n",
        "        <span class=\"has-text-right\">\n",
        "          <i class=\"bi bi-code\"></i><i class=\"bi bi-stoplights easy\"></i>\n",
        "        </span>\n",
        "    </div>\n",
        "<div class=\"message-body\">\n",
        "\n",
        "\n",
        "1. Find the inverse of the design matrix for each dataset constructed above.\n",
        "2. Calculate the model weights, then print your results.\n",
        "3. Use the `plot_model`\n",
        " function to plot your results.\n",
        "4. Visually inspect the plots and interpret the meaning and influence of each term.\n",
        "\n",
        "\n",
        "\n",
        "</div></article>\n",
        "\n"
      ]
    },
    {
      "cell_type": "code",
      "execution_count": 36,
      "id": "fqUu7I0tEWmQbc0Ug-CCQ",
      "metadata": {},
      "outputs": [
        {
          "name": "stdout",
          "output_type": "stream",
          "text": [
            "[[  2. -19.]\n",
            " [-19. 181.]]\n"
          ]
        },
        {
          "ename": "NameError",
          "evalue": "name 'weights1' is not defined",
          "output_type": "error",
          "traceback": [
            "\u001b[0;31m---------------------------------------------------------------------------\u001b[0m",
            "\u001b[0;31mNameError\u001b[0m                                 Traceback (most recent call last)",
            "Cell \u001b[0;32mIn[36], line 2\u001b[0m\n\u001b[1;32m      1\u001b[0m \u001b[38;5;28mprint\u001b[39m(np\u001b[38;5;241m.\u001b[39mlinalg\u001b[38;5;241m.\u001b[39minv(X1_design\u001b[38;5;241m.\u001b[39mT \u001b[38;5;241m@\u001b[39m X1_design))\n\u001b[0;32m----> 2\u001b[0m \u001b[38;5;28mprint\u001b[39m(\u001b[38;5;124m\"\u001b[39m\u001b[38;5;124mWeights for Dataset 1:\u001b[39m\u001b[38;5;124m\"\u001b[39m, \u001b[43mweights1\u001b[49m)\n\u001b[1;32m      4\u001b[0m \u001b[38;5;66;03m# Function to plot data points and fitted line\u001b[39;00m\n\u001b[1;32m      5\u001b[0m \u001b[38;5;28;01mdef\u001b[39;00m \u001b[38;5;21mplot_model\u001b[39m(X, y, wieghts, dataset_name):\n\u001b[1;32m      6\u001b[0m     \u001b[38;5;66;03m# Plot the data points\u001b[39;00m\n",
            "\u001b[0;31mNameError\u001b[0m: name 'weights1' is not defined"
          ]
        }
      ],
      "source": [
        "print(np.linalg.inv(X1_design.T @ X1_design))\n",
        "print(\"Weights for Dataset 1:\", weights1)\n",
        "\n",
        "# Function to plot data points and fitted line\n",
        "def plot_model(X, y, wieghts, dataset_name):\n",
        "    # Plot the data points\n",
        "    plt.scatter(X, y, color='blue', label='Given Points')\n",
        "    \n",
        "    # Extend x_vals range to include zero for correct y-intercept visualization\n",
        "    x_vals = np.linspace(0, max(X) + 1, 100)\n",
        "    y_vals = wieghts[0] * x_vals + wieghts[1]\n",
        "    \n",
        "    # Plot the fitted line\n",
        "    plt.plot(x_vals, y_vals, color='red', label=f'Line: y = {wieghts[0]:.2f}x + {wieghts[1]:.2f}')\n",
        "    \n",
        "    # Plot the y-intercept\n",
        "    plt.scatter(0, wieghts[1], color='green', zorder=5, label=f'Y-intercept (0, {wieghts[1]:.2f})')\n",
        "    \n",
        "    # Add title and labels\n",
        "    plt.title(dataset_name)\n",
        "    plt.xlabel('X')\n",
        "    plt.ylabel('y')\n",
        "    plt.legend()\n",
        "    plt.grid(True)\n",
        "    plt.show()\n",
        "\n",
        "plot_model(X1, y1, weights1, 'Dataset 1')"
      ]
    },
    {
      "cell_type": "markdown",
      "id": "yLyJNWgIyYYi1KapiRMAy",
      "metadata": {},
      "source": [
        "If you have more time, complete the next task.\n",
        "<article class=\"message task\"><a class=\"anchor\" id=\"loading5\"></a>\n",
        "    <div class=\"message-header\">\n",
        "        <span>Task 4: A new dataset</span>\n",
        "        <span class=\"has-text-right\">\n",
        "          <i class=\"bi bi-code\"></i><i class=\"bi bi-infinity\"></i><i class=\"bi bi-lightbulb-fill\"></i><i class=\"bi bi-stoplights easy\"></i>\n",
        "        </span>\n",
        "    </div>\n",
        "<div class=\"message-body\">\n",
        "\n",
        "\n",
        "Run the cell below to define a new dataset.\n",
        "1. Identify the inputs and the labels, then reuse the code from previous tasks to construct a design matrix.\n",
        "2. Calculate the inverse of the design matrix. This step should result in an error. What are the possible reasons for getting this error?\n",
        "\n",
        "**Note:** For pedagogical reasons, next week we will return to this dataset, as you will have the necessary tools to fit a model for this scenario.\n",
        "\n",
        "\n",
        "\n",
        "</div></article>\n",
        "\n"
      ]
    },
    {
      "cell_type": "code",
      "execution_count": 0,
      "id": "LtC8TUwf7Uz89gddxuvXC",
      "metadata": {},
      "outputs": [],
      "source": [
        "dataset_4 = np.array([[9, 1], [7, 2],[3, 8], [1, 3],[4, 3]])"
      ]
    },
    {
      "cell_type": "markdown",
      "id": "m09rBO3byfquf3UXkpYEb",
      "metadata": {},
      "source": []
    }
  ],
  "metadata": {
    "kernelspec": {
      "display_name": "Python",
      "language": "python3",
      "name": "python3"
    },
    "language_info": {
      "codemirror_mode": {
        "name": "ipython",
        "version": 3
      },
      "file_extension": ".py",
      "mimetype": "text/x-python",
      "name": "python",
      "nbconvert_exporter": "python",
      "pygments_lexer": "ipython3",
      "version": "3.11.9"
    }
  },
  "nbformat": 4,
  "nbformat_minor": 5
}
