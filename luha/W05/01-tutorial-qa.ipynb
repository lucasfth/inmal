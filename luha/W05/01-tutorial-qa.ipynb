{
  "metadata": {
    "kernelspec": {
      "display_name": "Python",
      "language": "python3",
      "name": "python3"
    },
    "language_info": {
      "codemirror_mode": {
        "name": "ipython",
        "version": 3
      },
      "file_extension": "py",
      "mimetype": "text/x-python",
      "name": "python"
    }
  },
  "nbformat": 4,
  "nbformat_minor": 5,
  "cells": [
    {
      "cell_type": "code",
      "id": "css_setup",
      "metadata": {
        "jupyter": {
          "source_hidden": true
        }
      },
      "source": [
        "import requests\n",
        "from IPython.core.display import HTML\n",
        "HTML(f\"\"\"\n",
        "<style>\n",
        "@import \"https://cdn.jsdelivr.net/npm/bulma@0.9.4/css/bulma.min.css\";\n",
        "</style>\n",
        "\"\"\")"
      ],
      "execution_count": 0,
      "outputs": []
    },
    {
      "cell_type": "markdown",
      "id": "dKmHDt4Y3mRBp8fMhBwBz",
      "metadata": {},
      "source": [
        "# Experimenting with the tutorial\n",
        "The following tasks are related to the week 4 tutorial.\n",
        " \n",
        "The individual tasks will ask you to either reflect on parts of the tutorial or modify specific code cells from the tutorial. Specifically, [Task 2](#project) and [Task 3](#ls) require modifications to the code of your copy of the tutorial notebook.\n",
        " \n",
        "\n",
        "<article class=\"message\">\n",
        "    <div class=\"message-body\">\n",
        "        <strong>List of tasks</strong>\n",
        "        <ul style=\"list-style: none;\">\n",
        "            <li>\n",
        "            <a href=\"#copy\">Task 1: Copy notebook</a>\n",
        "            </li>\n",
        "            <li>\n",
        "            <a href=\"#project\">Task 2: Projection experiments</a>\n",
        "            </li>\n",
        "            <li>\n",
        "            <a href=\"#ls\">Task 3: Linear Least Squares Experiments</a>\n",
        "            </li>\n",
        "            <li>\n",
        "            <a href=\"#poly\">Task 4: Second-order polynomial</a>\n",
        "            </li>\n",
        "            <li>\n",
        "            <a href=\"#pmatrix\">Task 5: Projection matrix</a>\n",
        "            </li>\n",
        "        </ul>\n",
        "    </div>\n",
        "</article>\n",
        "\n",
        "## Experiments for the tutorial notebook\n",
        "\n",
        "---\n",
        "**Task 1 (easy): Copy notebook**\n",
        "Copy the tutorial notebook\n",
        " in the repository. \n",
        "This makes it easy to go back to the original in case something goes wrong.\n",
        "\n",
        "---\n",
        "---\n",
        "**Task 2 (easy): Projection experiments👩‍💻**\n",
        "This task builds on the $\\textbf{Projections}$ section in the tutorial.\n",
        "1. Search and identify comment `##1`\n",
        ". \n",
        "2. Change the values of the matrix $A$ (below comment `##1`\n",
        ") to modify the line. Experiment with different values and observe how the projection changes in the plot.\n",
        "3. Change the matrix $A$, such that $PX$ ≈ $X$ (that is the projection leaves $X$ almost unchanged). \n",
        "4. Search and identify comment `##2`\n",
        ".\n",
        "5. Set the matrix $A$  = $\\begin{bmatrix} 1 \\\\ 0.5 \\end{bmatrix}$, then apply the projection matrix $P$ twice, i.e. calculate $PPX$ (just below the comment). How does this affect the projected points?\n",
        "\n",
        "\n",
        "---"
      ]
    },
    {
      "cell_type": "code",
      "id": "bRkemNUBj6KWZNILhEt4n",
      "metadata": {},
      "source": [
        "# Write your solution here"
      ],
      "execution_count": 0,
      "outputs": []
    },
    {
      "cell_type": "markdown",
      "id": "uw_T9H24hDnT4dWTrMK9H",
      "metadata": {},
      "source": [
        "\n",
        "---\n",
        "**Task 3 (easy): Linear Least Squares Experiments👩‍💻**\n",
        "This task builds on the $\\textbf{Linear Least Squares}$ section in the tutorial.\n",
        "1. Search and identify comment `##3`\n",
        ".\n",
        "2. Change the values of the first point in the matrix `X`\n",
        " such that it gradually moves further and further away from the line. Observe how it affects the error $RMS$.\n",
        "3. Add two points to `X`\n",
        " and observe how they affect the fitted line and the error.    - How can you change the two additional points so the fitted line does not move?\n",
        "\n",
        "\n",
        "4. What happens to the error when removing all but two points from `X`\n",
        "?\n",
        "5. What happens when you remove all but one point from `X`\n",
        "?\n",
        "6. Reflect on how the quality of the data affects the projection and thus the solution. \n",
        "\n",
        "\n",
        "---"
      ]
    },
    {
      "cell_type": "code",
      "id": "JmS2hgsdYRtFcbfNf0zVb",
      "metadata": {},
      "source": [
        "# Write your solution here"
      ],
      "execution_count": 0,
      "outputs": []
    },
    {
      "cell_type": "markdown",
      "id": "5AoobS5XhhBySplZXta09",
      "metadata": {},
      "source": [
        "## Pen and paper exercises\n",
        "A 2. order polynomial is given by \n",
        "\n",
        "$$f(x) = w_0 + w_1x + w_2x^2 = \\sum^2_{i=0} w_ix^i.$$\n",
        "\n",
        "Generally, an $N$'th order  polynomial is given by\n",
        "\n",
        "$$f(x) = \\sum^N_{i=0} w_ix^i,$$\n",
        "where $\\mathbb{w}$ is a vector of coefficients.\n",
        "\n",
        "---\n",
        "**Task 4 (medium): Second-order polynomial♾️**\n",
        "1. Identify the knowns and unknowns in the polynomial above.\n",
        "2. Is the function linear or non-linear in $\\mathbb{w}$?\n",
        "3. Is the function linear or non-linear in $\\mathbb{x}$?\n",
        "4. Provide the outline of an algorithm for fitting a second-order polynomial using linear least squares.\n",
        "5. Generalize this algorithm to n-th order polynomials.\n",
        "\n",
        "\n",
        "---"
      ]
    },
    {
      "cell_type": "code",
      "id": "A5G3chuiQIPa6smdboFAi",
      "metadata": {},
      "source": [
        "# Write your solution here"
      ],
      "execution_count": 0,
      "outputs": []
    },
    {
      "cell_type": "markdown",
      "id": "UO9u9gS28bOOzQx_8FShg",
      "metadata": {},
      "source": [
        "\n",
        "---\n",
        "**Task 5 (medium): Projection matrix♾️**\n",
        "The projection matrix $P = A(A^\\top A )^{-1}A^\\top$ is, under certain conditions, equal to the identity matrix.\n",
        "1. Give an example of a design matrix $A$ for which $P=I$.\n",
        "2. Explain why projection matrices are usually not identity matrices.\n",
        "3. (optional) Prove a condition for which $P=I$. Hint: when is $A^\\top A=I$?.\n",
        "\n",
        "\n",
        "---"
      ]
    },
    {
      "cell_type": "code",
      "id": "zcUNy4nGmtLtL2JIIW-aJ",
      "metadata": {},
      "source": [
        "# Write your solution here"
      ],
      "execution_count": 0,
      "outputs": []
    },
    {
      "cell_type": "markdown",
      "id": "8mPqe89tXLbLIaiwY0_Eh",
      "metadata": {},
      "source": [
        ""
      ]
    }
  ]
}