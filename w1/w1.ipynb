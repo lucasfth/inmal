{
 "cells": [
  {
   "cell_type": "code",
   "execution_count": 12,
   "metadata": {},
   "outputs": [],
   "source": [
    "va = [180,70,10,0,4]\n",
    "vb = [165,55,8,1,7]\n",
    "vc = [175,60,9,0,3]\n",
    "\n",
    "vu = [3,-5]\n",
    "vv = [-1,-3]"
   ]
  },
  {
   "cell_type": "code",
   "execution_count": 53,
   "metadata": {},
   "outputs": [],
   "source": [
    "from numpy import sqrt\n",
    "\n",
    "def norm(vec): #aka length\n",
    "  v = vec.copy()\n",
    "  for i in range(len(v)):\n",
    "    v[i] = v[i]**2\n",
    "  return sqrt(sum(v))\n",
    "\n",
    "def length2(vec):\n",
    "  def square(x):\n",
    "    return x**2\n",
    "\n",
    "  v = vec.copy()\n",
    "  []"
   ]
  },
  {
   "cell_type": "code",
   "execution_count": 5,
   "metadata": {},
   "outputs": [
    {
     "name": "stdout",
     "output_type": "stream",
     "text": [
      "193.43215865000317\n",
      "174.25269007966563\n",
      "185.24308354159947\n"
     ]
    }
   ],
   "source": [
    "print(norm(va))\n",
    "print(norm(vb))\n",
    "print(norm([175,60,9,0,3]))"
   ]
  },
  {
   "cell_type": "code",
   "execution_count": 55,
   "metadata": {},
   "outputs": [],
   "source": [
    "from numpy import arccos, rad2deg\n",
    "from fractions import Fraction\n",
    "from math import sqrt\n",
    "\n",
    "def euclidean_distance(a, b):\n",
    "  if len(a) != len(b):\n",
    "    return None\n",
    "  \n",
    "  vec_a = a.copy()\n",
    "  vec_b = b.copy()\n",
    "\n",
    "  for i in range(len(a)):\n",
    "    vec_a[i] = (vec_a[i] - vec_b[i])**2\n",
    "\n",
    "  return sqrt(sum(vec_a))\n",
    "\n",
    "def angle(a, b):\n",
    "  if len(a) != len(b):\n",
    "    return len(a) - len(b)\n",
    "  \n",
    "  vec_a = a.copy()\n",
    "  vec_b = b.copy()\n",
    "\n",
    "  length_a = norm(vec_a)\n",
    "  length_b = norm(vec_b)\n",
    "  \n",
    "  for i in range(len(a)):\n",
    "    vec_a[i] = vec_a[i] * vec_b[i] # dot product\n",
    "\n",
    "  res = rad2deg(arccos(sum(vec_a) / (length_a * length_b)))\n",
    "  return res\n",
    "\n",
    "def magnitude(a):\n",
    "  for i in range(len(a)):\n",
    "    a[i] = a[i]**2\n",
    "  return sqrt(sum(a))\n",
    "\n",
    "def unit_vector(a): # Does not seem to work\n",
    "  mag = Fraction(magnitude(a)).limit_denominator()\n",
    "  return [Fraction(x).limit_denominator() / mag for x in a]\n",
    "\n",
    "def dot_product(a, b):\n",
    "  if len(a) != len(b):\n",
    "    return len(a) - len(b)\n",
    "  \n",
    "  vec_a = a.copy()\n",
    "  vec_b = b.copy()\n",
    "\n",
    "  for i in range(len(a)):\n",
    "    vec_a[i] = vec_a[i] * vec_b[i] # dot product\n",
    "\n",
    "  return sum(vec_a)\n",
    "\n",
    "def is_orthogonal(a, b):\n",
    "  return dot_product(a, b) == 0"
   ]
  },
  {
   "cell_type": "code",
   "execution_count": 58,
   "metadata": {},
   "outputs": [
    {
     "name": "stdout",
     "output_type": "stream",
     "text": [
      "euc 21.540659228538015\n",
      "euc 11.958260743101398\n",
      "euc 11.269427669584644\n",
      "angle 3.0604851304551146\n",
      "angle 1.5030064822484155\n",
      "angle 2.3435406477490397\n",
      "dot 34\n",
      "dot 12\n",
      "unit [Fraction(3284516, 1549847), Fraction(20528225, 6199388), Fraction(3284516, 1549847)]\n",
      "euc 5.0\n",
      "dot Not orthogonal\n",
      "dot 10\n",
      "length 8.366600265340756\n",
      "distance 8.366600265340756\n",
      "dot 0\n",
      "cos -0.7855844048495725\n"
     ]
    }
   ],
   "source": [
    "print(\"euc\", euclidean_distance(va, vb))\n",
    "print(\"euc\", euclidean_distance(vb, vc))\n",
    "print(\"euc\", euclidean_distance(vc, va))\n",
    "\n",
    "print(\"angle\", angle(va, vb))\n",
    "print(\"angle\", angle(vb, vc))\n",
    "print(\"angle\", angle(vc, va))\n",
    "\n",
    "print(\"dot\", dot_product(vu, vu))\n",
    "print(\"dot\", dot_product(vu, vv))\n",
    "\n",
    "print(\"unit\", unit_vector([-4,-5,-4]))\n",
    "\n",
    "print(\"euc\", euclidean_distance([2,5], [2,0]))\n",
    "\n",
    "print(\"dot\", \"Orthogonal\" if dot_product([2,-2,-3,0], [0,-4,4,-2]) == 0 else \"Not orthogonal\")\n",
    "\n",
    "print(\"dot\", dot_product([5,-5,0],[5,3,-2]))\n",
    "\n",
    "print(\"length\", norm([-5,-3,6]))\n",
    "\n",
    "print(\"distance\", euclidean_distance([-7,-4,4], [-2,-1,-2]))\n",
    "\n",
    "print(\"dot\", dot_product([-3,36,-5],[7,1,3]))\n",
    "\n",
    "dotp = dot_product([3,-4,5],[-5,4,-1])\n",
    "normp = norm([3,-4,5]) * norm([-5,4,-1])\n",
    "\n",
    "print(\"cos\", dotp / normp)"
   ]
  },
  {
   "cell_type": "code",
   "execution_count": null,
   "metadata": {},
   "outputs": [],
   "source": []
  },
  {
   "cell_type": "code",
   "execution_count": null,
   "metadata": {},
   "outputs": [],
   "source": []
  }
 ],
 "metadata": {
  "kernelspec": {
   "display_name": "iml",
   "language": "python",
   "name": "python3"
  },
  "language_info": {
   "codemirror_mode": {
    "name": "ipython",
    "version": 3
   },
   "file_extension": ".py",
   "mimetype": "text/x-python",
   "name": "python",
   "nbconvert_exporter": "python",
   "pygments_lexer": "ipython3",
   "version": "3.11.9"
  }
 },
 "nbformat": 4,
 "nbformat_minor": 2
}
