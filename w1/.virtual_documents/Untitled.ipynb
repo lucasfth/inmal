from skimage import data
from matplotlib import pyplot as plt
                     
img = data.astronaut()
plt.imshow(img)


import matplotlib.pyplot as plt

from skimage import data
from skimage.color import rgb2gray

original = data.astronaut()
grayscale = rgb2gray(original)

fig, axes = plt.subplots(1, 2, figsize=(8, 4))
ax = axes.ravel()

ax[0].imshow(original)
ax[0].set_title("Original")
ax[1].imshow(grayscale, cmap=plt.cm.gray)
ax[1].set_title("Grayscale")

fig.tight_layout()
plt.show()


import numpy as np
   
# Create a one-dimensional array of zeros
zeros_array = np.zeros(10)
print("Original array:", zeros_array)

# Replace the fifth element
zeros_array[0] = -1
zeros_array[-1]= -1
print("Modified array:", zeros_array)


import matplotlib.pyplot as plt

plt.figure(figsize=(10, 5))
plt.stem(zeros_array, basefmt=" ") 
plt.title('Plot of the Modified Array')
plt.xlabel('Index')
plt.ylabel('Value')
plt.grid(True)
plt.show()


from scipy import stats
   
# Through scipy.stats.describe() we obtain descriptive statistics
description = stats.describe(zeros_array)
print("Mean: ", description.mean)


import numpy as np
from scipy import stats

data = np.array(zeros_array)
description = stats.describe(data)
print("Number of observations:", description.nobs)
print("Minimum and maximum:", description.minmax)
print("Mean:", description.mean)
print("Variance:", description.variance)
print("Skewness:", description.skewness)
print("Kurtosis:", description.kurtosis)
plt.plot(data)
plt.show()





import torch
   
# Create a tensor
tensor = torch.tensor([1.0, 2.0, 3.0, 4.0, 5.0])
mean_value = torch.mean(tensor)
print("Mean of elements:", mean_value)




