{
 "cells": [
  {
   "cell_type": "code",
   "execution_count": 1,
   "id": "2bdc1b17-2c2b-42e3-a711-83125a9cf8f8",
   "metadata": {},
   "outputs": [],
   "source": [
    "import numpy as np\n",
    "import matplotlib.pyplot as plt\n",
    "\n",
    "# Define matrices to be used in the tasks:\n",
    "A = np.array([\n",
    "    [1, 0.5, 1/3, 0.25],\n",
    "    [0.5, 1/3, 0.25, 0.2],\n",
    "    [1/3, 0.25, 0.2, 1/6],\n",
    "    [0.25, 0.2, 1/6, 1/7]\n",
    "])\n",
    "\n",
    "B = np.array([\n",
    "    [-16, 15, -14, 13],\n",
    "    [-12, 11, -10, 9],\n",
    "    [-8, 7, -6, 5],\n",
    "    [-4, 3, -2, 1]\n",
    "])\n",
    "\n",
    "C = np.array([\n",
    "    [1, 1/2, 1/3, 1/4],\n",
    "    [1/2, 1/3, 1/4, 1/5],\n",
    "    [1/3, 1/5, 1/7, 1/9],\n",
    "    [1/4, 1/7, 1/8, 1/9],\n",
    "])\n",
    "\n",
    "D = np.array([\n",
    "    [2, 4, 5/2],\n",
    "    [-3/4, 2, 0.25],\n",
    "    [0.25, 0.5, 2]\n",
    "])\n",
    "\n",
    "E = np.array([\n",
    "    [1, -0.5, 3/4],\n",
    "    [3/2, 0.5, -2],\n",
    "    [0.25, 1, 0.5]\n",
    "])\n",
    "\n",
    "D_inv = np.linalg.inv(D)\n",
    "E_inv = np.linalg.inv(E)\n"
   ]
  },
  {
   "cell_type": "code",
   "execution_count": 2,
   "id": "22ec2e93-ade5-41c9-9544-a8bbd15b4fb7",
   "metadata": {},
   "outputs": [
    {
     "data": {
      "text/plain": [
       "array([[ 17.        , -14.5       ,  14.33333333, -12.75      ],\n",
       "       [ 12.5       , -10.66666667,  10.25      ,  -8.8       ],\n",
       "       [  8.33333333,  -6.75      ,   6.2       ,  -4.83333333],\n",
       "       [  4.25      ,  -2.8       ,   2.16666667,  -0.85714286]])"
      ]
     },
     "execution_count": 2,
     "metadata": {},
     "output_type": "execute_result"
    }
   ],
   "source": [
    "A - B"
   ]
  },
  {
   "cell_type": "code",
   "execution_count": 11,
   "id": "56455d9d-746b-4847-9d59-90f568c99932",
   "metadata": {},
   "outputs": [
    {
     "name": "stdout",
     "output_type": "stream",
     "text": [
      "[[1.42361111 0.76904762 0.53720238 0.41481481]\n",
      " [0.8        0.43968254 0.31071429 0.24166667]\n",
      " [0.56666667 0.31380952 0.22301587 0.17407407]\n",
      " [0.44126984 0.24540816 0.175      0.13689153]]\n",
      "[[1.42361111 0.8        0.56666667 0.44126984]\n",
      " [0.8        0.46361111 0.33333333 0.26190476]\n",
      " [0.50873016 0.29126984 0.20820106 0.16301587]\n",
      " [0.39087302 0.22609127 0.16256614 0.12777778]]\n"
     ]
    }
   ],
   "source": [
    "print(np.dot(A, C))\n",
    "print(np.dot(C, A))"
   ]
  },
  {
   "cell_type": "markdown",
   "id": "47a8f6f6-2404-4b9e-9b06-161ec791bae9",
   "metadata": {},
   "source": [
    "Different since A dot B means we for [i][j] calculate inner product of row i in A with row j in B meaning we are using different combinations of rows and columns to calculate inner products for each value [i][j] whether we do one or the other first.\n",
    "\n"
   ]
  },
  {
   "cell_type": "code",
   "execution_count": 12,
   "id": "0049089f-8409-4750-93bb-78ae9620bd34",
   "metadata": {},
   "outputs": [
    {
     "name": "stdout",
     "output_type": "stream",
     "text": [
      "[[1.         0.25       0.11111111 0.0625    ]\n",
      " [0.25       0.11111111 0.0625     0.04      ]\n",
      " [0.11111111 0.05       0.02857143 0.01851852]\n",
      " [0.0625     0.02857143 0.02083333 0.01587302]]\n"
     ]
    }
   ],
   "source": [
    "print(A * C)"
   ]
  },
  {
   "cell_type": "markdown",
   "id": "d18a70dc-90e2-4b48-89a2-185f434dfd8d",
   "metadata": {},
   "source": [
    "Different from dot product as the dot product calculates each value as the `i`th row from A's inner product with the `j`th column from B whereas the elementwise multiplication (`*`) calculates value `(i, j)` simply as `A[i][j] * B[i][j]`."
   ]
  },
  {
   "cell_type": "code",
   "execution_count": 21,
   "id": "9a97a059-4336-402c-bfee-f9568cb6d837",
   "metadata": {},
   "outputs": [
    {
     "data": {
      "text/plain": [
       "array([[ 1.00000000e+00,  0.00000000e+00,  0.00000000e+00,\n",
       "         0.00000000e+00],\n",
       "       [-1.55431223e-15,  1.00000000e+00, -2.38919995e-14,\n",
       "         8.34887715e-15],\n",
       "       [ 1.29526020e-15,  3.40468394e-15,  1.00000000e+00,\n",
       "        -6.95739762e-15],\n",
       "       [ 1.11022302e-15,  1.91592773e-14,  1.70657139e-14,\n",
       "         1.00000000e+00]])"
      ]
     },
     "execution_count": 21,
     "metadata": {},
     "output_type": "execute_result"
    }
   ],
   "source": [
    "np.dot(A, np.linalg.inv(A))"
   ]
  },
  {
   "cell_type": "markdown",
   "id": "5304359c-9c37-4783-90f8-391b0a16bd67",
   "metadata": {},
   "source": [
    "Differs from the identity matrix very very slightly since floating point calculations are flawed in programming."
   ]
  },
  {
   "cell_type": "code",
   "execution_count": 33,
   "id": "dbafa671-b2bd-479f-b508-ff1dd8b9f11b",
   "metadata": {},
   "outputs": [
    {
     "name": "stdout",
     "output_type": "stream",
     "text": [
      "[[ 6.e-17 -3.e-17  1.e-16]\n",
      " [ 0.e+00  1.e-17 -3.e-17]\n",
      " [ 0.e+00 -3.e-17  0.e+00]]\n",
      "[[ 0.  0. -0.]\n",
      " [ 0. -0. -0.]\n",
      " [ 0.  0.  0.]]\n"
     ]
    }
   ],
   "source": [
    "invD = np.linalg.inv(D)\n",
    "invE = np.linalg.inv(E)\n",
    "invDinvE = np.dot(invD, invE)\n",
    "ED = np.dot(E, D)\n",
    "DE = np.dot(D, E)\n",
    "invED = np.linalg.inv(ED)\n",
    "invDE = np.linalg.inv(DE)\n",
    "\n",
    "print(invDinvE - invED)\n",
    "print(invDinvE - invDE)"
   ]
  },
  {
   "cell_type": "markdown",
   "id": "4c971286-c79e-45db-a796-4a5f7d809575",
   "metadata": {},
   "source": [
    "I honestly don't know why the above acts like it does."
   ]
  },
  {
   "cell_type": "code",
   "execution_count": 43,
   "id": "1eef9932-2a02-4014-aaf3-d930509eccc8",
   "metadata": {},
   "outputs": [
    {
     "name": "stdout",
     "output_type": "stream",
     "text": [
      "A 1.6534391534393054e-07\n",
      "B 0.0\n",
      "C 1.0498026371041239e-07\n",
      "A inverse [[   16.  -120.   240.  -140.]\n",
      " [ -120.  1200. -2700.  1680.]\n",
      " [  240. -2700.  6480. -4200.]\n",
      " [ -140.  1680. -4200.  2800.]]\n",
      "C inverse [[   -72.   -225.    525.     42.]\n",
      " [  1260.   3675.  -8820.   -630.]\n",
      " [ -3696. -10710.  25830.   1764.]\n",
      " [  2700.   7830. -18900.  -1260.]]\n"
     ]
    }
   ],
   "source": [
    "print(\"A\", np.linalg.det(A))\n",
    "print(\"B\", np.linalg.det(B))\n",
    "print(\"C\", np.linalg.det(C))\n",
    "\n",
    "print(\"A inverse\", np.linalg.inv(A))\n",
    "# print(\"B inverse\", np.linalg.inv(B))\n",
    "print(\"C inverse\", np.linalg.inv(C))"
   ]
  },
  {
   "cell_type": "markdown",
   "id": "e0c77ba6-b932-4068-a76a-465a50efe4df",
   "metadata": {},
   "source": [
    "Error when calculating inverse matrix of `B` as this is not possible."
   ]
  },
  {
   "cell_type": "code",
   "execution_count": 46,
   "id": "9e5929b1-e5a8-4867-ad53-da7d193ad83f",
   "metadata": {},
   "outputs": [
    {
     "data": {
      "text/plain": [
       "array([[ 0.e+00, -7.e-14,  3.e-13, -2.e-13],\n",
       "       [ 7.e-14,  0.e+00, -9.e-13,  7.e-13],\n",
       "       [-3.e-13,  9.e-13,  0.e+00, -9.e-13],\n",
       "       [ 2.e-13, -7.e-13,  9.e-13,  0.e+00]])"
      ]
     },
     "execution_count": 46,
     "metadata": {},
     "output_type": "execute_result"
    }
   ],
   "source": [
    "np.linalg.inv(A).T - np.linalg.inv(A.T)"
   ]
  },
  {
   "cell_type": "markdown",
   "id": "9e1d45f3-c32a-4708-8a16-4b4ebc657512",
   "metadata": {},
   "source": [
    "Floating point issues means it looks to be different but in fact they are the same apart from some small rounding errors."
   ]
  },
  {
   "cell_type": "code",
   "execution_count": 64,
   "id": "d84a3bbb-aa66-42be-8211-f9e60fcb1506",
   "metadata": {},
   "outputs": [
    {
     "name": "stdout",
     "output_type": "stream",
     "text": [
      "A [ 1. -1.]\n",
      "B [5. 7.]\n",
      "C [ 0. -1.]\n",
      "D [ 0.e+00 -3.e-17  2.e-01]\n",
      "E [ 3.  0. -1.]\n",
      "F no solutions\n"
     ]
    }
   ],
   "source": [
    "# a)\n",
    "a1 = np.array([[2, 3], [1, 1]])\n",
    "a2 = np.array([-1, 0])\n",
    "print(\"A\", np.linalg.inv(a1) @ a2)\n",
    "\n",
    "# b)\n",
    "b1 = np.array([[1, 0], [0, 1]])\n",
    "b2 = np.array([5, 7])\n",
    "print(\"B\", np.linalg.inv(b1) @ b2)\n",
    "\n",
    "# c)\n",
    "c1 = np.array([[0, 1], [-2, -3]])\n",
    "c2 = np.array([-1, 2])\n",
    "print(\"C\", np.linalg.inv(c1) @ c2)\n",
    "\n",
    "# d)\n",
    "d1 = np.array([[1, -3, 3], [1, -5, 3], [4, -6, 6]])\n",
    "d2 = np.array([0.5, 0.5, 1])\n",
    "print(\"D\", np.linalg.inv(d1) @ d2)\n",
    "\n",
    "# e)\n",
    "e1 = np.array([[2, 3, 4], [1, 1, 4], [2, 5, 4]])\n",
    "e2 = np.array([2, -2, 3])\n",
    "print(\"E\", np.linalg.inv(e1) @ e2)\n",
    "\n",
    "# f)\n",
    "f1 = np.array([[1, 1, 1], [2, 2, 2], [3, 3, 3]])\n",
    "f2 = np.array([2, -2, 3])\n",
    "if np.linalg.det(f1) == 0:\n",
    "    print(\"F no solutions\")\n",
    "else:\n",
    "    print(\"F\", np.linalg.inv(f1) @ f2)\n",
    "# Fails since there is no solution (determinant is 0)\n"
   ]
  },
  {
   "cell_type": "code",
   "execution_count": null,
   "id": "53addc89-7fe5-40f1-ada3-553d2c7b5acc",
   "metadata": {},
   "outputs": [],
   "source": []
  }
 ],
 "metadata": {
  "kernelspec": {
   "display_name": "Python 3 (ipykernel)",
   "language": "python",
   "name": "python3"
  },
  "language_info": {
   "codemirror_mode": {
    "name": "ipython",
    "version": 3
   },
   "file_extension": ".py",
   "mimetype": "text/x-python",
   "name": "python",
   "nbconvert_exporter": "python",
   "pygments_lexer": "ipython3",
   "version": "3.10.14"
  }
 },
 "nbformat": 4,
 "nbformat_minor": 5
}
