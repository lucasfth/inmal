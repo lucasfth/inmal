{
 "cells": [
  {
   "cell_type": "code",
   "execution_count": 8,
   "id": "12520bbf-5e7a-4c08-bad3-34a075922c35",
   "metadata": {},
   "outputs": [],
   "source": [
    "va = [2, 2]\n",
    "vb = [3, 4]"
   ]
  },
  {
   "cell_type": "code",
   "execution_count": 10,
   "id": "48ab88bd-567b-4973-bd43-f4fd116845b8",
   "metadata": {},
   "outputs": [
    {
     "name": "stdout",
     "output_type": "stream",
     "text": [
      "a 2.8284271247461903\n",
      "b 5.0\n"
     ]
    }
   ],
   "source": [
    "def length(v):\n",
    "    sum = 0.\n",
    "    for el in v:\n",
    "        sum += (el ** 2)\n",
    "    return sum ** 0.5\n",
    "\n",
    "print('a', length(va))\n",
    "print('b', length(vb))\n",
    "assert length(va) == 8**0.5\n",
    "assert length(vb) == 5"
   ]
  },
  {
   "cell_type": "code",
   "execution_count": 12,
   "id": "2adc3475-738f-4f25-9034-5f6e148a083b",
   "metadata": {},
   "outputs": [
    {
     "name": "stdout",
     "output_type": "stream",
     "text": [
      "a 2.8284271247461903\n",
      "b 5.0\n"
     ]
    }
   ],
   "source": [
    "def length2(v):\n",
    "    return sum([(el ** 2) for el in v]) ** 0.5\n",
    "\n",
    "print('a', length2(va))\n",
    "print('b', length2(vb))\n",
    "assert length2(va) == 8**0.5\n",
    "assert length2(vb) == 5"
   ]
  },
  {
   "cell_type": "code",
   "execution_count": 14,
   "id": "096fab80-3d68-46af-98f1-862daf1d7478",
   "metadata": {},
   "outputs": [
    {
     "name": "stdout",
     "output_type": "stream",
     "text": [
      "dot: 14\n"
     ]
    }
   ],
   "source": [
    "def dot(a, b):\n",
    "    return sum([x[0] * x[1] for x in zip(a,b)])\n",
    "\n",
    "print('dot:', dot(va, vb))"
   ]
  },
  {
   "cell_type": "code",
   "execution_count": 15,
   "id": "142d4a77-1de1-4695-8a62-a9d07a9a9ba3",
   "metadata": {},
   "outputs": [],
   "source": [
    "import numpy as np\n",
    "\n",
    "A = np.array([\n",
    "    [1, 2, 3],\n",
    "    [3, 4, 9],\n",
    "    [5, 7, 3]\n",
    "])"
   ]
  },
  {
   "cell_type": "code",
   "execution_count": 16,
   "id": "00051e4f-f09a-47b9-aaff-369fafa4208a",
   "metadata": {},
   "outputs": [
    {
     "data": {
      "text/plain": [
       "(3, 3)"
      ]
     },
     "execution_count": 16,
     "metadata": {},
     "output_type": "execute_result"
    }
   ],
   "source": [
    "A.shape\n"
   ]
  },
  {
   "cell_type": "code",
   "execution_count": 32,
   "id": "7367e157-acc7-46f8-a7b8-d0d14b968e3e",
   "metadata": {},
   "outputs": [
    {
     "data": {
      "text/plain": [
       "array([[2, 3],\n",
       "       [4, 9]])"
      ]
     },
     "execution_count": 32,
     "metadata": {},
     "output_type": "execute_result"
    }
   ],
   "source": [
    "ur = A[:-1, 1:]\n",
    "ur"
   ]
  },
  {
   "cell_type": "code",
   "execution_count": 34,
   "id": "fdec8665-a6dc-49db-b271-3876d5a13160",
   "metadata": {},
   "outputs": [
    {
     "data": {
      "text/plain": [
       "array([3, 4, 9])"
      ]
     },
     "execution_count": 34,
     "metadata": {},
     "output_type": "execute_result"
    }
   ],
   "source": [
    "row = A[1]\n",
    "row"
   ]
  },
  {
   "cell_type": "code",
   "execution_count": 42,
   "id": "960f3d0c-adf5-40bc-9e24-2b89ac86952f",
   "metadata": {},
   "outputs": [
    {
     "data": {
      "text/plain": [
       "array([1, 3, 5])"
      ]
     },
     "execution_count": 42,
     "metadata": {},
     "output_type": "execute_result"
    }
   ],
   "source": [
    "col = A[:, 0]\n",
    "col"
   ]
  },
  {
   "cell_type": "code",
   "execution_count": 43,
   "id": "cbf12c8c-382b-4102-98cc-04acbdaf64f9",
   "metadata": {},
   "outputs": [],
   "source": [
    "# Tests\n",
    "assert np.all(ur == np.array([[2, 3], [4, 9]]))\n",
    "assert np.all(row == np.array([3, 4, 9]))\n",
    "assert np.all(col == np.array([1, 3, 5]))"
   ]
  },
  {
   "cell_type": "code",
   "execution_count": 46,
   "id": "f594546a-1021-4440-8160-67b9036b2c0b",
   "metadata": {},
   "outputs": [
    {
     "data": {
      "text/plain": [
       "np.float64(7.3484692283495345)"
      ]
     },
     "execution_count": 46,
     "metadata": {},
     "output_type": "execute_result"
    }
   ],
   "source": [
    "def length_np(v):\n",
    "    return sum(v ** 2) ** 0.5\n",
    "\n",
    "vec = np.array([2, 3, 4, 5])\n",
    "length_np(vec)"
   ]
  },
  {
   "cell_type": "code",
   "execution_count": 47,
   "id": "0e7eceb4-4a8a-4967-83f7-4cc070b46a43",
   "metadata": {},
   "outputs": [
    {
     "name": "stdout",
     "output_type": "stream",
     "text": [
      "749 μs ± 33.8 μs per loop (mean ± std. dev. of 7 runs, 1,000 loops each)\n",
      "2.59 ms ± 346 μs per loop (mean ± std. dev. of 7 runs, 100 loops each)\n",
      "1.47 ms ± 248 μs per loop (mean ± std. dev. of 7 runs, 100 loops each)\n"
     ]
    }
   ],
   "source": [
    "vr = np.random.randint(100, size=10000)\n",
    "\n",
    "%timeit length_np(vr)\n",
    "%timeit length(vr)\n",
    "%timeit length2(vr)"
   ]
  },
  {
   "cell_type": "code",
   "execution_count": 48,
   "id": "a7cfd4ff-fd74-4bb2-a4d3-16e98fbbef4d",
   "metadata": {},
   "outputs": [
    {
     "name": "stdout",
     "output_type": "stream",
     "text": [
      "5696.112621779875 5696.112621779875 5696.112621779875\n"
     ]
    }
   ],
   "source": [
    "vr = np.random.randint(100, size=10000)\n",
    "\n",
    "a = length_np(vr)\n",
    "b = length(vr)\n",
    "c = length2(vr)\n",
    "\n",
    "print(a, b, c)"
   ]
  },
  {
   "cell_type": "code",
   "execution_count": 59,
   "id": "ef85fe71-bd6b-432f-bddb-855dd6536677",
   "metadata": {},
   "outputs": [
    {
     "name": "stdout",
     "output_type": "stream",
     "text": [
      "1.1426035712129559\n"
     ]
    }
   ],
   "source": [
    "def angle(a, b):\n",
    "    return np.arccos(dot(a, b) / (length_np(a) * length_np(b)))\n",
    "\n",
    "a = np.array([2, 3, 4])\n",
    "b = np.array([0, -1, 2])\n",
    "\n",
    "print(angle(a, b)) # The result should be: 1.1426035712129559\n",
    "assert angle(a, b) == 1.1426035712129559"
   ]
  },
  {
   "cell_type": "code",
   "execution_count": 73,
   "id": "72395257-3c5b-4a66-b914-c584a08bc0a2",
   "metadata": {},
   "outputs": [
    {
     "name": "stdout",
     "output_type": "stream",
     "text": [
      "1.4142135623730951\n"
     ]
    },
    {
     "data": {
      "text/plain": [
       "[np.float64(1.0),\n",
       " np.float64(1.4142135623730951),\n",
       " np.float64(1.7320508075688772),\n",
       " np.float64(2.0),\n",
       " np.float64(2.23606797749979),\n",
       " np.float64(2.449489742783178),\n",
       " np.float64(2.6457513110645907),\n",
       " np.float64(2.8284271247461903),\n",
       " np.float64(3.0)]"
      ]
     },
     "execution_count": 73,
     "metadata": {},
     "output_type": "execute_result"
    }
   ],
   "source": [
    "zeros = np.zeros(2)\n",
    "ones = np.ones(2)\n",
    "print(length(ones - zeros))\n",
    "\n",
    "res = [length(np.ones(x) - np.zeros(x)) for x in range(1, 10)]"
   ]
  },
  {
   "cell_type": "code",
   "execution_count": 80,
   "id": "1efdb681-ae34-4420-b060-6cb05a18fdda",
   "metadata": {},
   "outputs": [
    {
     "data": {
      "image/png": "[encoded data removed]",
      "text/plain": [
       "<Figure size 1000x500 with 1 Axes>"
      ]
     },
     "metadata": {},
     "output_type": "display_data"
    }
   ],
   "source": [
    "import matplotlib.pyplot as plt\n",
    "\n",
    "plt.figure(figsize=(10, 5))\n",
    "plt.plot(res)\n",
    "plt.xlabel('Dimension of vectors')\n",
    "plt.ylabel('Length of the difference vector')\n",
    "plt.show()"
   ]
  }
 ],
 "metadata": {
  "kernelspec": {
   "display_name": "Python 3 (ipykernel)",
   "language": "python",
   "name": "python3"
  },
  "language_info": {
   "codemirror_mode": {
    "name": "ipython",
    "version": 3
   },
   "file_extension": ".py",
   "mimetype": "text/x-python",
   "name": "python",
   "nbconvert_exporter": "python",
   "pygments_lexer": "ipython3",
   "version": "3.10.14"
  }
 },
 "nbformat": 4,
 "nbformat_minor": 5
}
