{
 "cells": [
  {
   "cell_type": "markdown",
   "metadata": {},
   "source": [
    "Focus on filtering (convolution and correlation, blurring/smoothing, noise)"
   ]
  }
 ],
 "metadata": {
  "language_info": {
   "name": "python"
  }
 },
 "nbformat": 4,
 "nbformat_minor": 2
}
