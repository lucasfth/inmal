{
 "cells": [
  {
   "cell_type": "markdown",
   "metadata": {},
   "source": [
    "Linear least squares problems for model fitting (design matrix, kernel, lines, polynomials, affine, and other multivariate functions). You may include regularization (see week 5 and week 12)."
   ]
  }
 ],
 "metadata": {
  "language_info": {
   "name": "python"
  }
 },
 "nbformat": 4,
 "nbformat_minor": 2
}
