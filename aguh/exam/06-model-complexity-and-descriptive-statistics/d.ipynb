{
 "cells": [
  {
   "cell_type": "markdown",
   "metadata": {},
   "source": [
    "Focus on uncertainty, noise, data cleaning in relation to regression, classification, clustering or dimensionality reduction (Covariance, distributions (e.g., Normal/Gaussian))"
   ]
  }
 ],
 "metadata": {
  "language_info": {
   "name": "python"
  }
 },
 "nbformat": 4,
 "nbformat_minor": 2
}
